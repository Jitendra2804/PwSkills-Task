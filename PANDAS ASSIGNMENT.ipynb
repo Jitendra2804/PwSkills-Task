{
 "cells": [
  {
   "cell_type": "code",
   "execution_count": null,
   "id": "ebae97cd",
   "metadata": {},
   "outputs": [],
   "source": [
    "#Q1. Create a Pandas Series that contains the following data: 4, 8, 15, 16, 23, and 42. Then, print the series."
   ]
  },
  {
   "cell_type": "code",
   "execution_count": 1,
   "id": "f7587226",
   "metadata": {},
   "outputs": [
    {
     "name": "stdout",
     "output_type": "stream",
     "text": [
      "0     4\n",
      "1     8\n",
      "2    15\n",
      "3    16\n",
      "4    23\n",
      "5    42\n",
      "dtype: int64\n"
     ]
    }
   ],
   "source": [
    "import pandas as pd\n",
    "\n",
    "data = [4, 8, 15, 16, 23, 42]\n",
    "series = pd.Series(data)\n",
    "\n",
    "print(series)\n"
   ]
  },
  {
   "cell_type": "code",
   "execution_count": null,
   "id": "27c858e2",
   "metadata": {},
   "outputs": [],
   "source": [
    "#Q2. Create a variable of list type containing 10 elements in it, and apply pandas.Series function on the variable print it."
   ]
  },
  {
   "cell_type": "code",
   "execution_count": 2,
   "id": "4563e91f",
   "metadata": {},
   "outputs": [
    {
     "name": "stdout",
     "output_type": "stream",
     "text": [
      "0     1\n",
      "1     2\n",
      "2     3\n",
      "3     4\n",
      "4     5\n",
      "5     6\n",
      "6     7\n",
      "7     8\n",
      "8     9\n",
      "9    10\n",
      "dtype: int64\n"
     ]
    }
   ],
   "source": [
    "import pandas as pd\n",
    "\n",
    "my_list = [1, 2, 3, 4, 5, 6, 7, 8, 9, 10]\n",
    "my_series = pd.Series(my_list)\n",
    "\n",
    "print(my_series)\n"
   ]
  },
  {
   "cell_type": "code",
   "execution_count": 3,
   "id": "f23778f7",
   "metadata": {},
   "outputs": [],
   "source": [
    "# Q3"
   ]
  },
  {
   "cell_type": "code",
   "execution_count": 4,
   "id": "47b29940",
   "metadata": {},
   "outputs": [
    {
     "name": "stdout",
     "output_type": "stream",
     "text": [
      "     Name  Age  Gender\n",
      "0   Alice   25  Female\n",
      "1     Bob   30    Male\n",
      "2  Claire   27  Female\n"
     ]
    }
   ],
   "source": [
    "import pandas as pd\n",
    "\n",
    "data = {\n",
    "    'Name': ['Alice', 'Bob', 'Claire'],\n",
    "    'Age': [25, 30, 27],\n",
    "    'Gender': ['Female', 'Male', 'Female']\n",
    "}\n",
    "\n",
    "df = pd.DataFrame(data)\n",
    "\n",
    "print(df)\n"
   ]
  },
  {
   "cell_type": "code",
   "execution_count": null,
   "id": "95a6e41e",
   "metadata": {},
   "outputs": [],
   "source": [
    "# Q4. What is ‘DataFrame’ in pandas and how is it different from pandas.series? Explain with an example.\n",
    "\n",
    "In Pandas, a DataFrame is a two-dimensional tabular data structure that consists of rows and columns. It is a fundamental data structure in Pandas and provides a convenient way to store and manipulate structured data. Each column in a DataFrame can contain different data types (e.g., numeric, string, boolean), making it versatile for handling various types of data.\n",
    "\n",
    "A Pandas Series, on the other hand, is a one-dimensional labeled array that can store data of any type. It is similar to a column in a DataFrame and can be thought of as a single column of data with an associated index. Unlike a DataFrame, a Series does not have column names; it only has a single column of data with a labeled index."
   ]
  },
  {
   "cell_type": "code",
   "execution_count": 5,
   "id": "3394770e",
   "metadata": {},
   "outputs": [
    {
     "name": "stdout",
     "output_type": "stream",
     "text": [
      "     Name  Age  Gender\n",
      "0   Alice   25  Female\n",
      "1     Bob   30    Male\n",
      "2  Claire   27  Female\n"
     ]
    }
   ],
   "source": [
    "import pandas as pd\n",
    "\n",
    "# Creating a DataFrame\n",
    "data = {\n",
    "    'Name': ['Alice', 'Bob', 'Claire'],\n",
    "    'Age': [25, 30, 27],\n",
    "    'Gender': ['Female', 'Male', 'Female']\n",
    "}\n",
    "\n",
    "df = pd.DataFrame(data)\n",
    "\n",
    "print(df)\n"
   ]
  },
  {
   "cell_type": "code",
   "execution_count": 6,
   "id": "184d1888",
   "metadata": {},
   "outputs": [],
   "source": [
    "# Series"
   ]
  },
  {
   "cell_type": "code",
   "execution_count": 7,
   "id": "fe2b199c",
   "metadata": {},
   "outputs": [
    {
     "name": "stdout",
     "output_type": "stream",
     "text": [
      "0    25\n",
      "1    30\n",
      "2    27\n",
      "Name: Age, dtype: int64\n"
     ]
    }
   ],
   "source": [
    "import pandas as pd\n",
    "\n",
    "# Creating a Series\n",
    "ages = pd.Series([25, 30, 27], name='Age')\n",
    "\n",
    "print(ages)\n"
   ]
  },
  {
   "cell_type": "code",
   "execution_count": 9,
   "id": "ff3f1cfe",
   "metadata": {},
   "outputs": [],
   "source": [
    "# Q5. What are some common functions you can use to manipulate data in a Pandas DataFrame? Can you give an example of when you might use one of these functions?"
   ]
  },
  {
   "cell_type": "code",
   "execution_count": null,
   "id": "305362aa",
   "metadata": {},
   "outputs": [],
   "source": [
    "head(): It returns the first n rows of a DataFrame. This function is useful to quickly inspect the data and get a glimpse of the DataFrame's structure."
   ]
  },
  {
   "cell_type": "code",
   "execution_count": 12,
   "id": "c5f131ca",
   "metadata": {},
   "outputs": [],
   "source": [
    "tail(): It returns the last n rows of a DataFrame. Similar to head(), it helps to examine the end of the DataFrame."
   ]
  },
  {
   "cell_type": "code",
   "execution_count": null,
   "id": "c6e56b39",
   "metadata": {},
   "outputs": [],
   "source": [
    "info(): It provides a summary of the DataFrame, including the column names, data types, and memory usage. This function is useful to understand the structure and properties of the DataFrame."
   ]
  },
  {
   "cell_type": "code",
   "execution_count": null,
   "id": "f54bb156",
   "metadata": {},
   "outputs": [],
   "source": [
    "describe(): It generates descriptive statistics of the DataFrame, such as count, mean, standard deviation, minimum, maximum, and quartile values. This function provides insights into the distribution and summary statistics of the numerical columns."
   ]
  },
  {
   "cell_type": "code",
   "execution_count": null,
   "id": "bc60e3ad",
   "metadata": {},
   "outputs": [],
   "source": [
    "sort_values(): It sorts the DataFrame by one or more columns. This function is useful for arranging the data in a desired order based on specific column(s)."
   ]
  },
  {
   "cell_type": "code",
   "execution_count": 13,
   "id": "9963907f",
   "metadata": {},
   "outputs": [],
   "source": [
    "# Q6. Which of the following is mutable in nature Series, DataFrame, Panel?"
   ]
  },
  {
   "cell_type": "code",
   "execution_count": null,
   "id": "74f5caf8",
   "metadata": {},
   "outputs": [],
   "source": [
    "Among the options provided, both Series and DataFrame are mutable in nature, whereas Panel is not mutable.\n",
    "\n",
    "In Pandas, a mutable object is one that can be modified after creation. Here's a breakdown of the mutability of each object:\n",
    "\n",
    "- Series: A Pandas Series is mutable, meaning you can modify its values, index labels, and other properties. For example, you can change the values of specific elements, add or remove elements, or assign new values to the Series.\n",
    "\n",
    "- DataFrame: A Pandas DataFrame is also mutable. You can modify its values, add or remove columns, change column names, add or remove rows, and perform various other modifications to the DataFrame's structure and data.\n",
    "\n",
    "- Panel: A Panel is a three-dimensional data structure in Pandas, but it is considered deprecated and no longer recommended for use. Panels were intended to handle data with three dimensions (items, major_axis, and minor_axis), but their functionality has been largely superseded by other data structures like MultiIndex DataFrames. Panels are not mutable like Series and DataFrames, and their use is discouraged in favor of other more flexible and efficient data structures.\n",
    "\n",
    "In summary, both Series and DataFrames are mutable objects in Pandas, allowing you to modify their contents and structure. However, the Panel object is deprecated and not mutable."
   ]
  },
  {
   "cell_type": "code",
   "execution_count": 14,
   "id": "6e7a7879",
   "metadata": {},
   "outputs": [],
   "source": [
    "# Q7. Create a DataFrame using multiple Series. Explain with an example."
   ]
  },
  {
   "cell_type": "code",
   "execution_count": 15,
   "id": "210c9053",
   "metadata": {},
   "outputs": [
    {
     "name": "stdout",
     "output_type": "stream",
     "text": [
      "     Name  Age  Gender\n",
      "0   Alice   25  Female\n",
      "1     Bob   30    Male\n",
      "2  Claire   27  Female\n"
     ]
    }
   ],
   "source": [
    "import pandas as pd\n",
    "\n",
    "# Creating the Series\n",
    "name_series = pd.Series(['Alice', 'Bob', 'Claire'])\n",
    "age_series = pd.Series([25, 30, 27])\n",
    "gender_series = pd.Series(['Female', 'Male', 'Female'])\n",
    "\n",
    "# Creating the DataFrame using the Series\n",
    "data = {\n",
    "    'Name': name_series,\n",
    "    'Age': age_series,\n",
    "    'Gender': gender_series\n",
    "}\n",
    "\n",
    "df = pd.DataFrame(data)\n",
    "\n",
    "print(df)\n"
   ]
  },
  {
   "cell_type": "code",
   "execution_count": null,
   "id": "d7891a32",
   "metadata": {},
   "outputs": [],
   "source": []
  }
 ],
 "metadata": {
  "kernelspec": {
   "display_name": "Python 3 (ipykernel)",
   "language": "python",
   "name": "python3"
  },
  "language_info": {
   "codemirror_mode": {
    "name": "ipython",
    "version": 3
   },
   "file_extension": ".py",
   "mimetype": "text/x-python",
   "name": "python",
   "nbconvert_exporter": "python",
   "pygments_lexer": "ipython3",
   "version": "3.10.9"
  }
 },
 "nbformat": 4,
 "nbformat_minor": 5
}
